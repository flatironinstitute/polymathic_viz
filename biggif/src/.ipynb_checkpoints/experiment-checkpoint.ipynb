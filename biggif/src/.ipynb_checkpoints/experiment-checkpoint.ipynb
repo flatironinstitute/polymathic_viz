{
 "cells": [
  {
   "cell_type": "code",
   "execution_count": 4,
   "metadata": {},
   "outputs": [],
   "source": [
    "# Goal: Create a pipeline that can regenerate the mp4 I created purely from the_well dataset, and allow for edit\n",
    "\"\"\"\n",
    "{\n",
    "    numRows: 4,\n",
    "    numColumns: 6,\n",
    "    squareImageWidth: 256,\n",
    "    squareImageHeight: 256,\n",
    "    standardTimeLength: 200,\n",
    "    gifs: [\n",
    "    {\n",
    "        shape: square\n",
    "        location: [row_in_col, col],\n",
    "        filepath: \"the_well/datasets/...hdf5\",\n",
    "        t: 0/1/2\n",
    "        field: pressure,\n",
    "        dimension: None\n",
    "        condition: 0,\n",
    "        slice: None,\n",
    "        \n",
    "    },\n",
    "    {\n",
    "        shape: rectangular\n",
    "        location: [row_in_col, col]\n",
    "        filepath: \"the_well/datasets/...hdf5\"\n",
    "        t: 0/1/2\n",
    "        field: density,\n",
    "        dimension: None\n",
    "        condition: 0,\n",
    "        slice: 0/1/2/3/4,\n",
    "    },\n",
    "}\n",
    "\"\"\"\n",
    "import numpy as np\n",
    "from src.polymathic_viz import recreate"
   ]
  },
  {
   "cell_type": "code",
   "execution_count": 2,
   "metadata": {},
   "outputs": [],
   "source": [
    "file = np.load(\"../final.npy\")"
   ]
  },
  {
   "cell_type": "code",
   "execution_count": 3,
   "metadata": {},
   "outputs": [
    {
     "ename": "FileNotFoundError",
     "evalue": "[Errno 2] No such file or directory: './biggif/active_matter-f0-t2-E-d(0,0)-c0.npy'",
     "output_type": "error",
     "traceback": [
      "\u001b[0;31m---------------------------------------------------------------------------\u001b[0m",
      "\u001b[0;31mFileNotFoundError\u001b[0m                         Traceback (most recent call last)",
      "Cell \u001b[0;32mIn[3], line 1\u001b[0m\n\u001b[0;32m----> 1\u001b[0m \u001b[43mrecreate\u001b[49m\u001b[43m(\u001b[49m\u001b[38;5;124;43m\"\u001b[39;49m\u001b[38;5;124;43m../final.npy\u001b[39;49m\u001b[38;5;124;43m\"\u001b[39;49m\u001b[43m,\u001b[49m\u001b[43m \u001b[49m\u001b[38;5;124;43m\"\u001b[39;49m\u001b[38;5;124;43m../final2.mp4\u001b[39;49m\u001b[38;5;124;43m\"\u001b[39;49m\u001b[43m,\u001b[49m\u001b[43m \u001b[49m\u001b[38;5;241;43m4\u001b[39;49m\u001b[43m,\u001b[49m\u001b[43m \u001b[49m\u001b[38;5;241;43m6\u001b[39;49m\u001b[43m)\u001b[49m\n",
      "File \u001b[0;32m~/polymathic_viz/src/polymathic_viz.py:767\u001b[0m, in \u001b[0;36mrecreate\u001b[0;34m(source, save_as, numRows, numCols, fps, compress, ih, iw, mode)\u001b[0m\n\u001b[1;32m    764\u001b[0m nr, nc \u001b[38;5;241m=\u001b[39m \u001b[38;5;241m0\u001b[39m, \u001b[38;5;241m0\u001b[39m\n\u001b[1;32m    765\u001b[0m \u001b[38;5;28;01mfor\u001b[39;00m f \u001b[38;5;129;01min\u001b[39;00m files:\n\u001b[1;32m    766\u001b[0m     \u001b[38;5;66;03m# print(f)\u001b[39;00m\n\u001b[0;32m--> 767\u001b[0m     array \u001b[38;5;241m=\u001b[39m \u001b[43mnp\u001b[49m\u001b[38;5;241;43m.\u001b[39;49m\u001b[43mload\u001b[49m\u001b[43m(\u001b[49m\u001b[43mf\u001b[49m\u001b[43m)\u001b[49m\n\u001b[1;32m    768\u001b[0m     ts, h, w, _ \u001b[38;5;241m=\u001b[39m array\u001b[38;5;241m.\u001b[39mshape\n\u001b[1;32m    769\u001b[0m     \u001b[38;5;66;03m# print(h, w)\u001b[39;00m\n\u001b[1;32m    770\u001b[0m \n\u001b[1;32m    771\u001b[0m     \u001b[38;5;66;03m# create the blank canvas\u001b[39;00m\n",
      "File \u001b[0;32m~/venv/lib/python3.10/site-packages/numpy/lib/npyio.py:427\u001b[0m, in \u001b[0;36mload\u001b[0;34m(file, mmap_mode, allow_pickle, fix_imports, encoding, max_header_size)\u001b[0m\n\u001b[1;32m    425\u001b[0m     own_fid \u001b[38;5;241m=\u001b[39m \u001b[38;5;28;01mFalse\u001b[39;00m\n\u001b[1;32m    426\u001b[0m \u001b[38;5;28;01melse\u001b[39;00m:\n\u001b[0;32m--> 427\u001b[0m     fid \u001b[38;5;241m=\u001b[39m stack\u001b[38;5;241m.\u001b[39menter_context(\u001b[38;5;28;43mopen\u001b[39;49m\u001b[43m(\u001b[49m\u001b[43mos_fspath\u001b[49m\u001b[43m(\u001b[49m\u001b[43mfile\u001b[49m\u001b[43m)\u001b[49m\u001b[43m,\u001b[49m\u001b[43m \u001b[49m\u001b[38;5;124;43m\"\u001b[39;49m\u001b[38;5;124;43mrb\u001b[39;49m\u001b[38;5;124;43m\"\u001b[39;49m\u001b[43m)\u001b[49m)\n\u001b[1;32m    428\u001b[0m     own_fid \u001b[38;5;241m=\u001b[39m \u001b[38;5;28;01mTrue\u001b[39;00m\n\u001b[1;32m    430\u001b[0m \u001b[38;5;66;03m# Code to distinguish from NumPy binary files and pickles.\u001b[39;00m\n",
      "\u001b[0;31mFileNotFoundError\u001b[0m: [Errno 2] No such file or directory: './biggif/active_matter-f0-t2-E-d(0,0)-c0.npy'"
     ]
    }
   ],
   "source": [
    "recreate(\"../final.npy\", \"../final2.mp4\", 4, 6)"
   ]
  },
  {
   "cell_type": "code",
   "execution_count": null,
   "metadata": {},
   "outputs": [],
   "source": []
  }
 ],
 "metadata": {
  "kernelspec": {
   "display_name": "venv",
   "language": "python",
   "name": "venv"
  },
  "language_info": {
   "codemirror_mode": {
    "name": "ipython",
    "version": 3
   },
   "file_extension": ".py",
   "mimetype": "text/x-python",
   "name": "python",
   "nbconvert_exporter": "python",
   "pygments_lexer": "ipython3",
   "version": "3.10.10"
  }
 },
 "nbformat": 4,
 "nbformat_minor": 4
}
