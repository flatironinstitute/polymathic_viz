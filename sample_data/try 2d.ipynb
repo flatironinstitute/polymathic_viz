{
 "cells": [
  {
   "cell_type": "code",
   "execution_count": null,
   "id": "402c8c4e",
   "metadata": {},
   "outputs": [],
   "source": [
    "from polymathic_viz import plot2d"
   ]
  },
  {
   "cell_type": "code",
   "execution_count": null,
   "id": "9363dc47",
   "metadata": {},
   "outputs": [],
   "source": [
    "%ls"
   ]
  },
  {
   "cell_type": "code",
   "execution_count": null,
   "id": "5002721b",
   "metadata": {},
   "outputs": [],
   "source": [
    "import numpy as np"
   ]
  },
  {
   "cell_type": "code",
   "execution_count": null,
   "id": "7eadf82e",
   "metadata": {},
   "outputs": [],
   "source": [
    "concentration = np.load(\"concentration.npy\")"
   ]
  },
  {
   "cell_type": "code",
   "execution_count": null,
   "id": "6bf70af1",
   "metadata": {},
   "outputs": [],
   "source": [
    "concentration.shape"
   ]
  },
  {
   "cell_type": "code",
   "execution_count": null,
   "id": "147ad986",
   "metadata": {},
   "outputs": [],
   "source": [
    "# trim the timestamps -- the later ones are not interesting\n",
    "concentration = concentration[:, :14]\n",
    "B = plot2d.ChessboardPlotter(\"Concentration\", concentration)"
   ]
  },
  {
   "cell_type": "code",
   "execution_count": null,
   "id": "f10feab8",
   "metadata": {},
   "outputs": [],
   "source": [
    "B.plot(timestamp=4)"
   ]
  },
  {
   "cell_type": "code",
   "execution_count": null,
   "id": "f2e95e40",
   "metadata": {},
   "outputs": [],
   "source": [
    "img = B.plot_image(3)"
   ]
  },
  {
   "cell_type": "code",
   "execution_count": null,
   "id": "598fb94e",
   "metadata": {},
   "outputs": [],
   "source": [
    "img.shape"
   ]
  },
  {
   "cell_type": "code",
   "execution_count": null,
   "id": "a3b4c3e0",
   "metadata": {},
   "outputs": [],
   "source": [
    "import matplotlib.pyplot as plt\n",
    "plt.imshow(img)"
   ]
  },
  {
   "cell_type": "code",
   "execution_count": null,
   "id": "3a6dcabe",
   "metadata": {},
   "outputs": [],
   "source": [
    "B.plot_gif(\"concentration.gif\")"
   ]
  },
  {
   "cell_type": "code",
   "execution_count": null,
   "id": "3699ebbe",
   "metadata": {},
   "outputs": [],
   "source": [
    "%ls -l"
   ]
  },
  {
   "cell_type": "code",
   "execution_count": null,
   "id": "af2edd67",
   "metadata": {},
   "outputs": [],
   "source": [
    "%%html\n",
    "<img src=\"concentration.gif?a=pg\">"
   ]
  },
  {
   "cell_type": "code",
   "execution_count": null,
   "id": "692a7f3f",
   "metadata": {},
   "outputs": [],
   "source": [
    "density = np.load(\"density.npy\")"
   ]
  },
  {
   "cell_type": "code",
   "execution_count": null,
   "id": "a0f6e447",
   "metadata": {},
   "outputs": [],
   "source": [
    "density.shape"
   ]
  },
  {
   "cell_type": "code",
   "execution_count": null,
   "id": "235e9ba1",
   "metadata": {},
   "outputs": [],
   "source": [
    "density2d = data2d = np.max(density, axis=1)"
   ]
  },
  {
   "cell_type": "code",
   "execution_count": null,
   "id": "ce072885",
   "metadata": {},
   "outputs": [],
   "source": [
    "density2d.shape"
   ]
  },
  {
   "cell_type": "code",
   "execution_count": null,
   "id": "409208c1",
   "metadata": {},
   "outputs": [],
   "source": [
    "B2 = plot2d.ChessboardPlotter(\"max value\", density2d.reshape(1,5,256,256))"
   ]
  },
  {
   "cell_type": "code",
   "execution_count": null,
   "id": "75662150",
   "metadata": {},
   "outputs": [],
   "source": [
    "B2.plot(0)"
   ]
  },
  {
   "cell_type": "code",
   "execution_count": null,
   "id": "7765a48b",
   "metadata": {},
   "outputs": [],
   "source": []
  },
  {
   "cell_type": "code",
   "execution_count": null,
   "id": "5f3f56b3",
   "metadata": {},
   "outputs": [],
   "source": [
    "densityall = density.reshape((5, 1, 256, 256, 256))"
   ]
  },
  {
   "cell_type": "code",
   "execution_count": null,
   "id": "92586a79",
   "metadata": {},
   "outputs": [],
   "source": [
    "B3 = plot2d.max_value_chessboard(\"density all\", densityall)"
   ]
  },
  {
   "cell_type": "code",
   "execution_count": null,
   "id": "1bd91b93",
   "metadata": {},
   "outputs": [],
   "source": [
    "B3.plot(0)"
   ]
  },
  {
   "cell_type": "code",
   "execution_count": null,
   "id": "37175dbf",
   "metadata": {},
   "outputs": [],
   "source": [
    "B3.plot_gif(\"density.gif\")"
   ]
  },
  {
   "cell_type": "code",
   "execution_count": null,
   "id": "95b73d02",
   "metadata": {},
   "outputs": [],
   "source": [
    "B3.images.shape"
   ]
  },
  {
   "cell_type": "code",
   "execution_count": null,
   "id": "574eff2a",
   "metadata": {},
   "outputs": [],
   "source": [
    "\n",
    "B3.images.dtype"
   ]
  },
  {
   "cell_type": "code",
   "execution_count": null,
   "id": "adb75dc8",
   "metadata": {},
   "outputs": [],
   "source": [
    "B3.images.size"
   ]
  },
  {
   "cell_type": "code",
   "execution_count": null,
   "id": "6858e280",
   "metadata": {},
   "outputs": [],
   "source": [
    "%%html\n",
    "<img src=\"density.gif?a=uXb\">"
   ]
  },
  {
   "cell_type": "code",
   "execution_count": null,
   "id": "5f1926bc",
   "metadata": {},
   "outputs": [],
   "source": []
  }
 ],
 "metadata": {
  "kernelspec": {
   "display_name": "Python 3 (ipykernel)",
   "language": "python",
   "name": "python3"
  },
  "language_info": {
   "codemirror_mode": {
    "name": "ipython",
    "version": 3
   },
   "file_extension": ".py",
   "mimetype": "text/x-python",
   "name": "python",
   "nbconvert_exporter": "python",
   "pygments_lexer": "ipython3",
   "version": "3.9.13"
  }
 },
 "nbformat": 4,
 "nbformat_minor": 5
}
